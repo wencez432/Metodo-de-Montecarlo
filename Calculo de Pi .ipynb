{
 "cells": [
  {
   "cell_type": "code",
   "execution_count": 1,
   "metadata": {},
   "outputs": [],
   "source": [
    "import numpy as np\n",
    "import matplotlib.pyplot as plt\n",
    "from random import uniform"
   ]
  },
  {
   "cell_type": "code",
   "execution_count": 16,
   "metadata": {},
   "outputs": [],
   "source": [
    "# cargando la matriz de numeros aleatorios entre 0 y 1\n",
    "x = np.zeros((100000000,2))\n",
    "for i in range(100000000):\n",
    "    for j in range(2):\n",
    "        x[i,j]=uniform(0, 1)"
   ]
  },
  {
   "cell_type": "code",
   "execution_count": 17,
   "metadata": {},
   "outputs": [],
   "source": [
    "# calculando cuantos puntos caen dentro del cuarto de circunferencia\n",
    "counter=0\n",
    "# Usando montecarlo\n",
    "for i in range(100000000):\n",
    "    a=x[i,0]**2\n",
    "    b=x[i,1]**2\n",
    "    if (a+b)<1:\n",
    "        counter=counter+1   "
   ]
  },
  {
   "cell_type": "code",
   "execution_count": 18,
   "metadata": {},
   "outputs": [
    {
     "name": "stdout",
     "output_type": "stream",
     "text": [
      "3.14150708\n"
     ]
    }
   ],
   "source": [
    "# calculando pi\n",
    "pi=4*(counter/100000000)\n",
    "print(pi)"
   ]
  },
  {
   "cell_type": "code",
   "execution_count": 1,
   "metadata": {},
   "outputs": [
    {
     "name": "stdout",
     "output_type": "stream",
     "text": [
      "3.14125304\n"
     ]
    }
   ],
   "source": [
    "import numpy as np\n",
    "import matplotlib.pyplot as plt\n",
    "from random import uniform\n",
    "# cargando la matriz de numeros aleatorios entre 0 y 1\n",
    "x = np.zeros((100000000,2))\n",
    "for i in range(100000000):\n",
    "    for j in range(2):\n",
    "        x[i,j]=uniform(0, 1)\n",
    "# calculando cuantos puntos caen dentro del cuarto de circunferencia\n",
    "counter=0\n",
    "# Usando montecarlo\n",
    "for i in range(100000000):\n",
    "    a=x[i,0]**2\n",
    "    b=x[i,1]**2\n",
    "    if (a+b)<1:\n",
    "        counter=counter+1\n",
    "# calculando pi\n",
    "pi=4*(counter/100000000)\n",
    "print(pi)"
   ]
  }
 ],
 "metadata": {
  "kernelspec": {
   "display_name": "Python 3",
   "language": "python",
   "name": "python3"
  },
  "language_info": {
   "codemirror_mode": {
    "name": "ipython",
    "version": 3
   },
   "file_extension": ".py",
   "mimetype": "text/x-python",
   "name": "python",
   "nbconvert_exporter": "python",
   "pygments_lexer": "ipython3",
   "version": "3.6.5"
  }
 },
 "nbformat": 4,
 "nbformat_minor": 2
}
