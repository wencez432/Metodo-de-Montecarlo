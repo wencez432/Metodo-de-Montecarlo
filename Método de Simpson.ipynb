{
 "cells": [
  {
   "cell_type": "markdown",
   "metadata": {},
   "source": [
    "# Método de Simpson"
   ]
  },
  {
   "cell_type": "code",
   "execution_count": 16,
   "metadata": {},
   "outputs": [
    {
     "data": {
      "text/plain": [
       "1.0000000000000002"
      ]
     },
     "execution_count": 16,
     "metadata": {},
     "output_type": "execute_result"
    }
   ],
   "source": [
    "import numpy as np\n",
    "import matplotlib.pyplot as plt\n",
    "%matplotlib inline\n",
    "\n",
    "def simps(f,a,b,N):\n",
    "    '''Aproximación de la Integral usando la Regla de Simpson.\n",
    "    \n",
    "    Parametros\n",
    "    ----------\n",
    "    f : Función de una sola variable\n",
    "    a , b : Límites de integración [a,b]\n",
    "    N : Númbero de subintervalos de [a,b]. Debe ser par.\n",
    "\n",
    "    Retornará\n",
    "    ---------\n",
    "    Una aproximación de la integral de la función usando la Regla de Simpson.\n",
    "    \n",
    "    '''\n",
    "    if N % 2 == 1:\n",
    "        raise ValueError(\"N debe ser un número par.\")\n",
    "    dx = (b-a)/N\n",
    "    x = np.linspace(a,b,N+1)\n",
    "    y = f(x)\n",
    "    S = dx/3 * np.sum(y[0:-1:2] + 4*y[1::2] + y[2::2])\n",
    "    return S\n",
    "\n",
    "simps(lambda x : 3*x**2,0,1,1000)"
   ]
  },
  {
   "cell_type": "code",
   "execution_count": 17,
   "metadata": {},
   "outputs": [
    {
     "data": {
      "text/plain": [
       "1.0000000000000338"
      ]
     },
     "execution_count": 17,
     "metadata": {},
     "output_type": "execute_result"
    }
   ],
   "source": [
    "import numpy as np\n",
    "import matplotlib.pyplot as plt\n",
    "%matplotlib inline\n",
    "\n",
    "def simps(f,a,b,N):\n",
    "    '''Aproximación de la Integral usando la Regla de Simpson.\n",
    "    \n",
    "    Parametros\n",
    "    ----------\n",
    "    f : Función de una sola variable\n",
    "    a , b : Límites de integración [a,b]\n",
    "    N : Númbero de subintervalos de [a,b]. Debe ser par.\n",
    "\n",
    "    Retornará\n",
    "    ---------\n",
    "    Una aproximación de la integral de la función usando la Regla de Simpson.\n",
    "    \n",
    "    '''\n",
    "    if N % 2 == 1:\n",
    "        raise ValueError(\"N debe ser un número par.\")\n",
    "    dx = (b-a)/N\n",
    "    x = np.linspace(a,b,N+1)\n",
    "    y = f(x)\n",
    "    S = dx/3 * np.sum(y[0:-1:2] + 4*y[1::2] + y[2::2])\n",
    "    return S\n",
    "\n",
    "simps(np.sin,0,np.pi/2,1000)"
   ]
  },
  {
   "cell_type": "code",
   "execution_count": null,
   "metadata": {},
   "outputs": [],
   "source": []
  }
 ],
 "metadata": {
  "kernelspec": {
   "display_name": "Python 3",
   "language": "python",
   "name": "python3"
  },
  "language_info": {
   "codemirror_mode": {
    "name": "ipython",
    "version": 3
   },
   "file_extension": ".py",
   "mimetype": "text/x-python",
   "name": "python",
   "nbconvert_exporter": "python",
   "pygments_lexer": "ipython3",
   "version": "3.7.0"
  }
 },
 "nbformat": 4,
 "nbformat_minor": 2
}
