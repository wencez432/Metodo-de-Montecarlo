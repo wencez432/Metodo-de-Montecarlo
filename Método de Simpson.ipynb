{
 "cells": [
  {
   "cell_type": "markdown",
   "metadata": {},
   "source": [
    "# Método de Simpson"
   ]
  },
  {
   "cell_type": "code",
   "execution_count": 9,
   "metadata": {},
   "outputs": [
    {
     "data": {
      "text/plain": [
       "1.0"
      ]
     },
     "execution_count": 9,
     "metadata": {},
     "output_type": "execute_result"
    }
   ],
   "source": [
    "import numpy as np\n",
    "import matplotlib.pyplot as plt\n",
    "%matplotlib inline\n",
    "\n",
    "def simps(f,a,b,N=50):\n",
    "    '''Aproximación de la Integral usando la Regla de Simpson.\n",
    "    \n",
    "    Parametros\n",
    "    ----------\n",
    "    f : Función de una sola variable\n",
    "    a , b : Límites de integración [a,b]\n",
    "    N : Númbero de subintervalos de [a,b]\n",
    "\n",
    "    Retornará\n",
    "    -------\n",
    "    float\n",
    "       Una aproximación de la integral de la función usando la Regla de Simpson.\n",
    "    \n",
    "    Ejemplo\n",
    "    --------\n",
    "    >>> simps(lambda x : 3*x**2,0,1,10)\n",
    "    1.0\n",
    "    '''\n",
    "    if N % 2 == 1:\n",
    "        raise ValueError(\"N must be an even integer.\")\n",
    "    dx = (b-a)/N\n",
    "    x = np.linspace(a,b,N+1)\n",
    "    y = f(x)\n",
    "    S = dx/3 * np.sum(y[0:-1:2] + 4*y[1::2] + y[2::2])\n",
    "    return S\n",
    "\n",
    "simps(lambda x : 3*x**2,0,1,10)"
   ]
  },
  {
   "cell_type": "code",
   "execution_count": 10,
   "metadata": {},
   "outputs": [
    {
     "data": {
      "text/plain": [
       "1.000000000338236"
      ]
     },
     "execution_count": 10,
     "metadata": {},
     "output_type": "execute_result"
    }
   ],
   "source": [
    "import numpy as np\n",
    "import matplotlib.pyplot as plt\n",
    "%matplotlib inline\n",
    "\n",
    "def simps(f,a,b,N=50):\n",
    "    '''Aproximación de la Integral usando la Regla de Simpson.\n",
    "    \n",
    "    Parametros\n",
    "    ----------\n",
    "    f : Función de una sola variable\n",
    "    a , b : Límites de integración [a,b]\n",
    "    N : Númbero de subintervalos de [a,b]\n",
    "\n",
    "    Retornará\n",
    "    -------\n",
    "    float\n",
    "       Una aproximación de la integral de la función usando la Regla de Simpson.\n",
    "    \n",
    "    Ejemplo\n",
    "    --------\n",
    "    >>> simps(lambda x : 3*x**2,0,1,10)\n",
    "    1.0\n",
    "    '''\n",
    "    if N % 2 == 1:\n",
    "        raise ValueError(\"N must be an even integer.\")\n",
    "    dx = (b-a)/N\n",
    "    x = np.linspace(a,b,N+1)\n",
    "    y = f(x)\n",
    "    S = dx/3 * np.sum(y[0:-1:2] + 4*y[1::2] + y[2::2])\n",
    "    return S\n",
    "\n",
    "simps(np.sin,0,np.pi/2,100)"
   ]
  },
  {
   "cell_type": "code",
   "execution_count": null,
   "metadata": {},
   "outputs": [],
   "source": []
  }
 ],
 "metadata": {
  "kernelspec": {
   "display_name": "Python 3",
   "language": "python",
   "name": "python3"
  },
  "language_info": {
   "codemirror_mode": {
    "name": "ipython",
    "version": 3
   },
   "file_extension": ".py",
   "mimetype": "text/x-python",
   "name": "python",
   "nbconvert_exporter": "python",
   "pygments_lexer": "ipython3",
   "version": "3.7.0"
  }
 },
 "nbformat": 4,
 "nbformat_minor": 2
}
