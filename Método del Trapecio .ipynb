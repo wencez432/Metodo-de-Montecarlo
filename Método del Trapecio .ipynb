{
 "cells": [
  {
   "cell_type": "markdown",
   "metadata": {},
   "source": [
    "# Método del Trapecio"
   ]
  },
  {
   "cell_type": "code",
   "execution_count": 14,
   "metadata": {},
   "outputs": [
    {
     "data": {
      "text/plain": [
       "1.0000005000000005"
      ]
     },
     "execution_count": 14,
     "metadata": {},
     "output_type": "execute_result"
    }
   ],
   "source": [
    "import numpy as np\n",
    "import matplotlib.pyplot as plt\n",
    "%matplotlib inline\n",
    "\n",
    "def Trapezoidal(f, a, b, n):\n",
    "    '''Aproximación de la Integral usando la Regla del trapecio.\n",
    "    \n",
    "    Parametros\n",
    "    ----------\n",
    "    f : Función de una sola variable\n",
    "    a , b : Límites de integración [a,b]\n",
    "    N : Númbero de subintervalos de [a,b]\n",
    "\n",
    "    Retornará\n",
    "    ---------\n",
    "    Una aproximación de la integral de la función usando la Regla del trapecio.\n",
    "    \n",
    "    '''\n",
    "    h = (b-a)/float(n)\n",
    "    s = 0.5*(f(a) + f(b))\n",
    "    for i in range(1,n,1):\n",
    "        s = s + f(a + i*h)\n",
    "    return h*s\n",
    "\n",
    "Trapezoidal(lambda x : 3*x**2,0,1,1000)"
   ]
  },
  {
   "cell_type": "code",
   "execution_count": 11,
   "metadata": {},
   "outputs": [
    {
     "data": {
      "text/plain": [
       "0.9999999999997817"
      ]
     },
     "execution_count": 11,
     "metadata": {},
     "output_type": "execute_result"
    }
   ],
   "source": [
    "import numpy as np\n",
    "import matplotlib.pyplot as plt\n",
    "%matplotlib inline\n",
    "\n",
    "def Trapezoidal(f, a, b, n):\n",
    "    '''Aproximación de la Integral usando la Regla del trapecio.\n",
    "    \n",
    "    Parametros\n",
    "    ----------\n",
    "    f : Función de una sola variable\n",
    "    a , b : Límites de integración [a,b]\n",
    "    N : Númbero de subintervalos de [a,b]\n",
    "\n",
    "    Retornará\n",
    "    ---------\n",
    "    Una aproximación de la integral de la función usando la Regla del trapecio.\n",
    "    \n",
    "    '''\n",
    "    h = (b-a)/float(n)\n",
    "    s = 0.5*(f(a) + f(b))\n",
    "    for i in range(1,n,1):\n",
    "        s = s + f(a + i*h)\n",
    "    return h*s\n",
    "\n",
    "Trapezoidal(np.sin,0,np.pi/2,1000)"
   ]
  },
  {
   "cell_type": "code",
   "execution_count": null,
   "metadata": {},
   "outputs": [],
   "source": []
  }
 ],
 "metadata": {
  "kernelspec": {
   "display_name": "Python 3",
   "language": "python",
   "name": "python3"
  },
  "language_info": {
   "codemirror_mode": {
    "name": "ipython",
    "version": 3
   },
   "file_extension": ".py",
   "mimetype": "text/x-python",
   "name": "python",
   "nbconvert_exporter": "python",
   "pygments_lexer": "ipython3",
   "version": "3.7.0"
  }
 },
 "nbformat": 4,
 "nbformat_minor": 2
}
