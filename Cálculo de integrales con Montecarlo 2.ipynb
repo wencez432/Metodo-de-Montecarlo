{
 "cells": [
  {
   "cell_type": "code",
   "execution_count": 13,
   "metadata": {},
   "outputs": [
    {
     "name": "stdout",
     "output_type": "stream",
     "text": [
      "El área de 2^x de 0 a 1 es\n",
      "1.4433097025165582\n"
     ]
    },
    {
     "data": {
      "text/plain": [
       "Text(0.5,0,'Areas')"
      ]
     },
     "execution_count": 13,
     "metadata": {},
     "output_type": "execute_result"
    },
    {
     "data": {
      "image/png": "[encoded data removed]",
      "text/plain": [
       "<Figure size 432x288 with 1 Axes>"
      ]
     },
     "metadata": {
      "needs_background": "light"
     },
     "output_type": "display_data"
    }
   ],
   "source": [
    "#aproximación de 2^x de 0 a 1 con 1500 repeticiones\n",
    "%matplotlib inline\n",
    "from scipy import random\n",
    "import numpy as np\n",
    "import matplotlib.pyplot as plt\n",
    "\n",
    "a = 0\n",
    "b = 1 #límite de la integración, puede variar.\n",
    "N = 1500 #Número de repeticiones, si aumenta, mejor será la aproximación.\n",
    "xrand = np.zeros(N)\n",
    "\n",
    "for i in range(len(xrand)):\n",
    "    xrand[i] = random.uniform(a,b)\n",
    "    \n",
    "def func(x):\n",
    "    return 2**x\n",
    "    \n",
    "integral = 0.0\n",
    "    \n",
    "for i in range(N):\n",
    "    integral += func(xrand[i])\n",
    "        \n",
    "answer = (b-a)/float(N)*integral\n",
    "print (\"El área de 2^x de 0 a 1 es\")\n",
    "print(answer)\n",
    "\n",
    "areas = []\n",
    "for i in range(N):\n",
    "    xrand = np.zeros(N)\n",
    "\n",
    "    for i in range(len(xrand)):\n",
    "        xrand[i] = random.uniform(a,b)\n",
    "        integral = 0.0\n",
    "    \n",
    "    for i in range(N):\n",
    "        integral += func(xrand[i])\n",
    "        \n",
    "    answer = (b-a)/float(N)*integral\n",
    "    areas.append(answer)\n",
    "plt.title(\"distribución normal de áreas calculadas\")\n",
    "plt.hist(areas,bins =60, ec = 'white')\n",
    "plt.xlabel(\"Areas\") "
   ]
  },
  {
   "cell_type": "code",
   "execution_count": null,
   "metadata": {},
   "outputs": [],
   "source": []
  }
 ],
 "metadata": {
  "kernelspec": {
   "display_name": "Python 3",
   "language": "python",
   "name": "python3"
  },
  "language_info": {
   "codemirror_mode": {
    "name": "ipython",
    "version": 3
   },
   "file_extension": ".py",
   "mimetype": "text/x-python",
   "name": "python",
   "nbconvert_exporter": "python",
   "pygments_lexer": "ipython3",
   "version": "3.7.0"
  }
 },
 "nbformat": 4,
 "nbformat_minor": 2
}
