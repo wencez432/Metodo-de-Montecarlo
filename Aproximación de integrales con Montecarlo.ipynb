{
 "cells": [
  {
   "cell_type": "code",
   "execution_count": 45,
   "metadata": {},
   "outputs": [
    {
     "name": "stdout",
     "output_type": "stream",
     "text": [
      "El área de sen(x) de 0 a pi es\n",
      "1.971976292565307\n"
     ]
    },
    {
     "data": {
      "text/plain": [
       "Text(0.5,0,'Areas')"
      ]
     },
     "execution_count": 45,
     "metadata": {},
     "output_type": "execute_result"
    },
    {
     "data": {
      "image/png": "[encoded data removed]",
      "text/plain": [
       "<Figure size 432x288 with 1 Axes>"
      ]
     },
     "metadata": {
      "needs_background": "light"
     },
     "output_type": "display_data"
    }
   ],
   "source": [
    "#código obtenido de https://www.youtube.com/watch?v=WAf0rqwAvgg\n",
    "\n",
    "%matplotlib inline\n",
    "from scipy import random\n",
    "import numpy as np\n",
    "import matplotlib.pyplot as plt\n",
    "\n",
    "a = 0\n",
    "b = np.pi #límite de la integración, puede variar.\n",
    "N = 1000\n",
    "xrand = np.zeros(N)\n",
    "\n",
    "for i in range(len(xrand)):\n",
    "    xrand[i] = random.uniform(a,b)\n",
    "    \n",
    "def func(x):\n",
    "    return np.sin(x)\n",
    "    \n",
    "integral = 0.0\n",
    "    \n",
    "for i in range(N):\n",
    "    integral += func(xrand[i])\n",
    "        \n",
    "answer = (b-a)/float(N)*integral\n",
    "print (\"El área de sen(x) de 0 a pi es\")\n",
    "print(answer)\n",
    "\n",
    "areas = []\n",
    "for i in range(N):\n",
    "    xrand = np.zeros(N)\n",
    "\n",
    "    for i in range(len(xrand)):\n",
    "        xrand[i] = random.uniform(a,b)\n",
    "        integral = 0.0\n",
    "    \n",
    "    for i in range(N):\n",
    "        integral += func(xrand[i])\n",
    "        \n",
    "    answer = (b-a)/float(N)*integral\n",
    "    areas.append(answer)\n",
    "plt.title(\"distribución normal de áreas calculadas\")\n",
    "plt.hist(areas,bins =30, ec = 'black')\n",
    "plt.xlabel(\"Areas\") "
   ]
  }
 ],
 "metadata": {
  "kernelspec": {
   "display_name": "Python 3",
   "language": "python",
   "name": "python3"
  },
  "language_info": {
   "codemirror_mode": {
    "name": "ipython",
    "version": 3
   },
   "file_extension": ".py",
   "mimetype": "text/x-python",
   "name": "python",
   "nbconvert_exporter": "python",
   "pygments_lexer": "ipython3",
   "version": "3.7.0"
  }
 },
 "nbformat": 4,
 "nbformat_minor": 2
}
